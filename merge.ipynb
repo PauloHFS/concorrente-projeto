{
 "cells": [
  {
   "cell_type": "code",
   "execution_count": 2,
   "metadata": {},
   "outputs": [],
   "source": [
    "import pandas as pd"
   ]
  },
  {
   "cell_type": "code",
   "execution_count": 3,
   "metadata": {},
   "outputs": [],
   "source": [
    "node_path = 'nodejs/node-workers.csv'\n",
    "go_path = 'go-server/go-workers.csv'\n",
    "nodedf = pd.read_csv(node_path)\n",
    "godf = pd.read_csv(go_path)\n"
   ]
  },
  {
   "cell_type": "code",
   "execution_count": 4,
   "metadata": {},
   "outputs": [
    {
     "name": "stdout",
     "output_type": "stream",
     "text": [
      "<class 'pandas.core.frame.DataFrame'>\n",
      "RangeIndex: 700000 entries, 0 to 699999\n",
      "Data columns (total 7 columns):\n",
      " #   Column      Non-Null Count   Dtype \n",
      "---  ------      --------------   ----- \n",
      " 0   id          700000 non-null  int64 \n",
      " 1   nome        700000 non-null  object\n",
      " 2   descricao   700000 non-null  object\n",
      " 3   valores     700000 non-null  object\n",
      " 4   created_at  700000 non-null  object\n",
      " 5   workers     700000 non-null  int64 \n",
      " 6   language    700000 non-null  object\n",
      "dtypes: int64(2), object(5)\n",
      "memory usage: 37.4+ MB\n"
     ]
    }
   ],
   "source": [
    "nodedf.info()"
   ]
  },
  {
   "cell_type": "code",
   "execution_count": 5,
   "metadata": {},
   "outputs": [
    {
     "name": "stdout",
     "output_type": "stream",
     "text": [
      "<class 'pandas.core.frame.DataFrame'>\n",
      "RangeIndex: 700000 entries, 0 to 699999\n",
      "Data columns (total 7 columns):\n",
      " #   Column      Non-Null Count   Dtype \n",
      "---  ------      --------------   ----- \n",
      " 0   id          700000 non-null  int64 \n",
      " 1   nome        700000 non-null  object\n",
      " 2   descricao   700000 non-null  object\n",
      " 3   valores     700000 non-null  object\n",
      " 4   created_at  700000 non-null  object\n",
      " 5   workers     700000 non-null  int64 \n",
      " 6   language    700000 non-null  object\n",
      "dtypes: int64(2), object(5)\n",
      "memory usage: 37.4+ MB\n"
     ]
    }
   ],
   "source": [
    "godf.info()"
   ]
  },
  {
   "cell_type": "code",
   "execution_count": 6,
   "metadata": {},
   "outputs": [],
   "source": [
    "df = pd.concat([nodedf, godf])"
   ]
  },
  {
   "cell_type": "code",
   "execution_count": 7,
   "metadata": {},
   "outputs": [
    {
     "name": "stdout",
     "output_type": "stream",
     "text": [
      "<class 'pandas.core.frame.DataFrame'>\n",
      "Int64Index: 1400000 entries, 0 to 699999\n",
      "Data columns (total 7 columns):\n",
      " #   Column      Non-Null Count    Dtype \n",
      "---  ------      --------------    ----- \n",
      " 0   id          1400000 non-null  int64 \n",
      " 1   nome        1400000 non-null  object\n",
      " 2   descricao   1400000 non-null  object\n",
      " 3   valores     1400000 non-null  object\n",
      " 4   created_at  1400000 non-null  object\n",
      " 5   workers     1400000 non-null  int64 \n",
      " 6   language    1400000 non-null  object\n",
      "dtypes: int64(2), object(5)\n",
      "memory usage: 85.4+ MB\n"
     ]
    }
   ],
   "source": [
    "df.info()"
   ]
  },
  {
   "cell_type": "code",
   "execution_count": 8,
   "metadata": {},
   "outputs": [],
   "source": [
    "df.to_csv('workers.csv', index=False)"
   ]
  }
 ],
 "metadata": {
  "kernelspec": {
   "display_name": "base",
   "language": "python",
   "name": "python3"
  },
  "language_info": {
   "codemirror_mode": {
    "name": "ipython",
    "version": 3
   },
   "file_extension": ".py",
   "mimetype": "text/x-python",
   "name": "python",
   "nbconvert_exporter": "python",
   "pygments_lexer": "ipython3",
   "version": "3.11.4"
  }
 },
 "nbformat": 4,
 "nbformat_minor": 2
}
