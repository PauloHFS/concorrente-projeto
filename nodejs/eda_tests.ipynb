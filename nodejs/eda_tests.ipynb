{
 "cells": [
  {
   "cell_type": "code",
   "execution_count": 78,
   "metadata": {},
   "outputs": [],
   "source": [
    "import os\n",
    "import re\n",
    "import pandas as pd\n",
    "\n",
    "from matplotlib import pyplot as plt\n"
   ]
  },
  {
   "cell_type": "code",
   "execution_count": 79,
   "metadata": {},
   "outputs": [
    {
     "data": {
      "text/plain": [
       "['node-1-workers.csv',\n",
       " 'node-10-workers.csv',\n",
       " 'node-12-workers.csv',\n",
       " 'node-2-workers.csv',\n",
       " 'node-4-workers.csv',\n",
       " 'node-6-workers.csv',\n",
       " 'node-8-workers.csv']"
      ]
     },
     "execution_count": 79,
     "metadata": {},
     "output_type": "execute_result"
    }
   ],
   "source": [
    "tests_path = 'tests/'\n",
    "files = os.listdir(tests_path)\n",
    "files\n"
   ]
  },
  {
   "cell_type": "code",
   "execution_count": 80,
   "metadata": {},
   "outputs": [],
   "source": [
    "df = pd.DataFrame()\n",
    "for file in files:\n",
    "  numWorkes = re.search(r'node-(\\d+)-workers.csv', file)\n",
    "  temp = pd.read_csv(tests_path + file, index_col=0)\n",
    "  temp['createdAt'] = pd.to_datetime(temp['createdAt'])\n",
    "  tempo_inicial = temp['createdAt'].min()\n",
    "  temp['createdAt'] = (temp['createdAt'] - tempo_inicial).dt.total_seconds()\n",
    "  temp['workers'] = numWorkes.group(1)\n",
    "  temp['workers'] = temp['workers'].astype(int)\n",
    "  df = pd.concat([df, temp])\n"
   ]
  },
  {
   "cell_type": "code",
   "execution_count": 81,
   "metadata": {},
   "outputs": [
    {
     "name": "stdout",
     "output_type": "stream",
     "text": [
      "<class 'pandas.core.frame.DataFrame'>\n",
      "Int64Index: 700000 entries, 1 to 100000\n",
      "Data columns (total 5 columns):\n",
      " #   Column     Non-Null Count   Dtype  \n",
      "---  ------     --------------   -----  \n",
      " 0   nome       700000 non-null  object \n",
      " 1   descricao  700000 non-null  object \n",
      " 2   valores    700000 non-null  object \n",
      " 3   createdAt  700000 non-null  float64\n",
      " 4   workers    700000 non-null  int32  \n",
      "dtypes: float64(1), int32(1), object(3)\n",
      "memory usage: 29.4+ MB\n"
     ]
    }
   ],
   "source": [
    "df.info()"
   ]
  },
  {
   "cell_type": "code",
   "execution_count": 82,
   "metadata": {},
   "outputs": [
    {
     "data": {
      "text/html": [
       "<div>\n",
       "<style scoped>\n",
       "    .dataframe tbody tr th:only-of-type {\n",
       "        vertical-align: middle;\n",
       "    }\n",
       "\n",
       "    .dataframe tbody tr th {\n",
       "        vertical-align: top;\n",
       "    }\n",
       "\n",
       "    .dataframe thead th {\n",
       "        text-align: right;\n",
       "    }\n",
       "</style>\n",
       "<table border=\"1\" class=\"dataframe\">\n",
       "  <thead>\n",
       "    <tr style=\"text-align: right;\">\n",
       "      <th></th>\n",
       "      <th>nome</th>\n",
       "      <th>descricao</th>\n",
       "      <th>valores</th>\n",
       "      <th>createdAt</th>\n",
       "      <th>workers</th>\n",
       "    </tr>\n",
       "    <tr>\n",
       "      <th>id</th>\n",
       "      <th></th>\n",
       "      <th></th>\n",
       "      <th></th>\n",
       "      <th></th>\n",
       "      <th></th>\n",
       "    </tr>\n",
       "  </thead>\n",
       "  <tbody>\n",
       "    <tr>\n",
       "      <th>1</th>\n",
       "      <td>User 1</td>\n",
       "      <td>Descrição do usuário 1</td>\n",
       "      <td>108, 108, 175, 114</td>\n",
       "      <td>0.0</td>\n",
       "      <td>1</td>\n",
       "    </tr>\n",
       "    <tr>\n",
       "      <th>2</th>\n",
       "      <td>User 4</td>\n",
       "      <td>Descrição do usuário 4</td>\n",
       "      <td>142, 197, 187, 122</td>\n",
       "      <td>0.0</td>\n",
       "      <td>1</td>\n",
       "    </tr>\n",
       "    <tr>\n",
       "      <th>3</th>\n",
       "      <td>User 6</td>\n",
       "      <td>Descrição do usuário 6</td>\n",
       "      <td>111, 173, 187, 177</td>\n",
       "      <td>0.0</td>\n",
       "      <td>1</td>\n",
       "    </tr>\n",
       "    <tr>\n",
       "      <th>4</th>\n",
       "      <td>User 7</td>\n",
       "      <td>Descrição do usuário 7</td>\n",
       "      <td>192, 188, 151, 118</td>\n",
       "      <td>0.0</td>\n",
       "      <td>1</td>\n",
       "    </tr>\n",
       "    <tr>\n",
       "      <th>5</th>\n",
       "      <td>User 8</td>\n",
       "      <td>Descrição do usuário 8</td>\n",
       "      <td>148, 170, 108, 167</td>\n",
       "      <td>0.0</td>\n",
       "      <td>1</td>\n",
       "    </tr>\n",
       "  </tbody>\n",
       "</table>\n",
       "</div>"
      ],
      "text/plain": [
       "      nome               descricao             valores  createdAt  workers\n",
       "id                                                                        \n",
       "1   User 1  Descrição do usuário 1  108, 108, 175, 114        0.0        1\n",
       "2   User 4  Descrição do usuário 4  142, 197, 187, 122        0.0        1\n",
       "3   User 6  Descrição do usuário 6  111, 173, 187, 177        0.0        1\n",
       "4   User 7  Descrição do usuário 7  192, 188, 151, 118        0.0        1\n",
       "5   User 8  Descrição do usuário 8  148, 170, 108, 167        0.0        1"
      ]
     },
     "execution_count": 82,
     "metadata": {},
     "output_type": "execute_result"
    }
   ],
   "source": [
    "df.head()"
   ]
  },
  {
   "cell_type": "code",
   "execution_count": 83,
   "metadata": {},
   "outputs": [
    {
     "data": {
      "text/plain": [
       "1     100000\n",
       "10    100000\n",
       "12    100000\n",
       "2     100000\n",
       "4     100000\n",
       "6     100000\n",
       "8     100000\n",
       "Name: workers, dtype: int64"
      ]
     },
     "execution_count": 83,
     "metadata": {},
     "output_type": "execute_result"
    }
   ],
   "source": [
    "df['workers'].value_counts()"
   ]
  },
  {
   "cell_type": "code",
   "execution_count": 85,
   "metadata": {},
   "outputs": [],
   "source": [
    "df = df.sort_values(by=['workers', 'createdAt'])"
   ]
  },
  {
   "cell_type": "code",
   "execution_count": 92,
   "metadata": {},
   "outputs": [
    {
     "data": {
      "image/png": "[encoded data removed]",
      "text/plain": [
       "<Figure size 1200x600 with 1 Axes>"
      ]
     },
     "metadata": {},
     "output_type": "display_data"
    }
   ],
   "source": [
    "# Lista de valores únicos em \"workers\"\n",
    "unique_workers = df['workers'].unique()\n",
    "\n",
    "# Criar um box plot para cada valor único de \"workers\"\n",
    "plt.figure(figsize=(12, 6))\n",
    "for worker in unique_workers:\n",
    "    subset = df[df['workers'] == worker]\n",
    "    plt.boxplot(subset['createdAt'], positions=[worker], labels=[str(worker)])\n",
    "\n",
    "plt.ylabel('req/s')\n",
    "plt.xlabel('workers')\n",
    "plt.show()\n"
   ]
  }
 ],
 "metadata": {
  "kernelspec": {
   "display_name": "base",
   "language": "python",
   "name": "python3"
  },
  "language_info": {
   "codemirror_mode": {
    "name": "ipython",
    "version": 3
   },
   "file_extension": ".py",
   "mimetype": "text/x-python",
   "name": "python",
   "nbconvert_exporter": "python",
   "pygments_lexer": "ipython3",
   "version": "3.11.4"
  }
 },
 "nbformat": 4,
 "nbformat_minor": 2
}
